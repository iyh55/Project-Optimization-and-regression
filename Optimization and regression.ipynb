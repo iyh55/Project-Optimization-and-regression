{
 "cells": [
  {
   "cell_type": "code",
   "execution_count": 6,
   "id": "60ad3e5a",
   "metadata": {},
   "outputs": [],
   "source": [
    "#Dynamic Algorithm\n",
    "def knapsack(values, weights, capacity):\n",
    "    n = len(values)\n",
    "    dp = [[0] * (capacity + 1) for _ in range(n + 1)]\n",
    "    \n",
    "    for i in range(1, n + 1):\n",
    "        for w in range(1, capacity + 1):\n",
    "            if weights[i - 1] <= w:\n",
    "                dp[i][w] = max(values[i - 1] + dp[i - 1][w - weights[i - 1]], dp[i - 1][w])\n",
    "            else:\n",
    "                dp[i][w] = dp[i - 1][w]\n",
    "    \n",
    "    solution = [0] * n  # Initialize all items as not selected\n",
    "    total_weight = capacity\n",
    "    for i in range(n, 0, -1):\n",
    "        if dp[i][total_weight] != dp[i - 1][total_weight]:\n",
    "            solution[i - 1] = 1\n",
    "            total_weight -= weights[i - 1]\n",
    "    \n",
    "    best_value = dp[n][capacity]\n",
    "    total_weight = sum(weights[i] for i in range(n) if solution[i] == 1)\n",
    "    \n",
    "    return best_value, total_weight, solution"
   ]
  },
  {
   "cell_type": "code",
   "execution_count": 7,
   "id": "8100baa0",
   "metadata": {},
   "outputs": [],
   "source": [
    "#Greedy Algorithm\n",
    "\n",
    "def knapsack_greedy(capacity, weights, values):\n",
    "    ratios = [v / w for v, w in zip(values, weights)]\n",
    "    items = sorted(range(len(values)), key=lambda k: ratios[k], reverse=True)\n",
    "    solution = [0] * len(values)\n",
    "    total_value = 0\n",
    "    total_weight = 0\n",
    "    remaining_capacity = capacity\n",
    "\n",
    "    for i in items:\n",
    "        if weights[i] <= remaining_capacity:\n",
    "            solution[i] = 1\n",
    "            total_value += values[i]\n",
    "            total_weight += weights[i]\n",
    "            remaining_capacity -= weights[i]\n",
    "        else:\n",
    "            solution[i] = 0\n",
    "\n",
    "    return total_value, total_weight, solution"
   ]
  },
  {
   "cell_type": "code",
   "execution_count": null,
   "id": "22f759df",
   "metadata": {},
   "outputs": [],
   "source": []
  },
  {
   "cell_type": "code",
   "execution_count": null,
   "id": "e1dc9f3f",
   "metadata": {},
   "outputs": [],
   "source": []
  }
 ],
 "metadata": {
  "kernelspec": {
   "display_name": "Python 3 (ipykernel)",
   "language": "python",
   "name": "python3"
  },
  "language_info": {
   "codemirror_mode": {
    "name": "ipython",
    "version": 3
   },
   "file_extension": ".py",
   "mimetype": "text/x-python",
   "name": "python",
   "nbconvert_exporter": "python",
   "pygments_lexer": "ipython3",
   "version": "3.9.13"
  }
 },
 "nbformat": 4,
 "nbformat_minor": 5
}
